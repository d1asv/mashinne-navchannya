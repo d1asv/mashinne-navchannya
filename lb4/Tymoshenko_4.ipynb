{
 "cells": [
  {
   "cell_type": "markdown",
   "id": "c0faee18",
   "metadata": {},
   "source": [
    "# Лабораторна робота 4"
   ]
  },
  {
   "cell_type": "markdown",
   "id": "da8d52ff",
   "metadata": {},
   "source": [
    "### Завдання"
   ]
  },
  {
   "cell_type": "markdown",
   "id": "10f71f69",
   "metadata": {},
   "source": [
    "#### Частина 1: Застосування лінійної регресії для прогнозування ціни на будинок"
   ]
  },
  {
   "cell_type": "markdown",
   "id": "37414f77",
   "metadata": {},
   "source": [
    "Розробити модель лінійної регресії для прогнозування ціни на будинок на основі цих атрибутів."
   ]
  },
  {
   "cell_type": "markdown",
   "id": "eb0bbae2",
   "metadata": {},
   "source": [
    "1. Завантажте файл Housing.csv. Виведіть перші 5 рядків. "
   ]
  },
  {
   "cell_type": "code",
   "execution_count": 1,
   "id": "61245308",
   "metadata": {},
   "outputs": [
    {
     "data": {
      "text/html": [
       "<div>\n",
       "<style scoped>\n",
       "    .dataframe tbody tr th:only-of-type {\n",
       "        vertical-align: middle;\n",
       "    }\n",
       "\n",
       "    .dataframe tbody tr th {\n",
       "        vertical-align: top;\n",
       "    }\n",
       "\n",
       "    .dataframe thead th {\n",
       "        text-align: right;\n",
       "    }\n",
       "</style>\n",
       "<table border=\"1\" class=\"dataframe\">\n",
       "  <thead>\n",
       "    <tr style=\"text-align: right;\">\n",
       "      <th></th>\n",
       "      <th>price</th>\n",
       "      <th>area</th>\n",
       "      <th>bedrooms</th>\n",
       "      <th>bathrooms</th>\n",
       "      <th>stories</th>\n",
       "      <th>mainroad</th>\n",
       "      <th>guestroom</th>\n",
       "      <th>basement</th>\n",
       "      <th>hotwaterheating</th>\n",
       "      <th>airconditioning</th>\n",
       "      <th>parking</th>\n",
       "      <th>prefarea</th>\n",
       "      <th>furnishingstatus</th>\n",
       "    </tr>\n",
       "  </thead>\n",
       "  <tbody>\n",
       "    <tr>\n",
       "      <th>0</th>\n",
       "      <td>13300000</td>\n",
       "      <td>7420</td>\n",
       "      <td>4</td>\n",
       "      <td>2</td>\n",
       "      <td>3</td>\n",
       "      <td>yes</td>\n",
       "      <td>no</td>\n",
       "      <td>no</td>\n",
       "      <td>no</td>\n",
       "      <td>yes</td>\n",
       "      <td>2</td>\n",
       "      <td>yes</td>\n",
       "      <td>furnished</td>\n",
       "    </tr>\n",
       "    <tr>\n",
       "      <th>1</th>\n",
       "      <td>12250000</td>\n",
       "      <td>8960</td>\n",
       "      <td>4</td>\n",
       "      <td>4</td>\n",
       "      <td>4</td>\n",
       "      <td>yes</td>\n",
       "      <td>no</td>\n",
       "      <td>no</td>\n",
       "      <td>no</td>\n",
       "      <td>yes</td>\n",
       "      <td>3</td>\n",
       "      <td>no</td>\n",
       "      <td>furnished</td>\n",
       "    </tr>\n",
       "    <tr>\n",
       "      <th>2</th>\n",
       "      <td>12250000</td>\n",
       "      <td>9960</td>\n",
       "      <td>3</td>\n",
       "      <td>2</td>\n",
       "      <td>2</td>\n",
       "      <td>yes</td>\n",
       "      <td>no</td>\n",
       "      <td>yes</td>\n",
       "      <td>no</td>\n",
       "      <td>no</td>\n",
       "      <td>2</td>\n",
       "      <td>yes</td>\n",
       "      <td>semi-furnished</td>\n",
       "    </tr>\n",
       "    <tr>\n",
       "      <th>3</th>\n",
       "      <td>12215000</td>\n",
       "      <td>7500</td>\n",
       "      <td>4</td>\n",
       "      <td>2</td>\n",
       "      <td>2</td>\n",
       "      <td>yes</td>\n",
       "      <td>no</td>\n",
       "      <td>yes</td>\n",
       "      <td>no</td>\n",
       "      <td>yes</td>\n",
       "      <td>3</td>\n",
       "      <td>yes</td>\n",
       "      <td>furnished</td>\n",
       "    </tr>\n",
       "    <tr>\n",
       "      <th>4</th>\n",
       "      <td>11410000</td>\n",
       "      <td>7420</td>\n",
       "      <td>4</td>\n",
       "      <td>1</td>\n",
       "      <td>2</td>\n",
       "      <td>yes</td>\n",
       "      <td>yes</td>\n",
       "      <td>yes</td>\n",
       "      <td>no</td>\n",
       "      <td>yes</td>\n",
       "      <td>2</td>\n",
       "      <td>no</td>\n",
       "      <td>furnished</td>\n",
       "    </tr>\n",
       "  </tbody>\n",
       "</table>\n",
       "</div>"
      ],
      "text/plain": [
       "      price  area  bedrooms  bathrooms  stories mainroad guestroom basement  \\\n",
       "0  13300000  7420         4          2        3      yes        no       no   \n",
       "1  12250000  8960         4          4        4      yes        no       no   \n",
       "2  12250000  9960         3          2        2      yes        no      yes   \n",
       "3  12215000  7500         4          2        2      yes        no      yes   \n",
       "4  11410000  7420         4          1        2      yes       yes      yes   \n",
       "\n",
       "  hotwaterheating airconditioning  parking prefarea furnishingstatus  \n",
       "0              no             yes        2      yes        furnished  \n",
       "1              no             yes        3       no        furnished  \n",
       "2              no              no        2      yes   semi-furnished  \n",
       "3              no             yes        3      yes        furnished  \n",
       "4              no             yes        2       no        furnished  "
      ]
     },
     "execution_count": 1,
     "metadata": {},
     "output_type": "execute_result"
    }
   ],
   "source": [
    "import pandas as pd\n",
    "import numpy as np\n",
    "import matplotlib.pyplot as plt\n",
    "from sklearn.model_selection import train_test_split, cross_val_score\n",
    "from sklearn.linear_model import LinearRegression\n",
    "from sklearn.metrics import mean_squared_error, r2_score\n",
    "from sklearn.preprocessing import StandardScaler\n",
    "\n",
    "data = pd.read_csv(\"Housing.csv\", encoding='latin1')\n",
    "data.head()"
   ]
  },
  {
   "cell_type": "markdown",
   "id": "2d20bd9f",
   "metadata": {},
   "source": [
    "2. Зробіть новий датасет, який містить тільки ці стовпчики. \n",
    "columns = ['price', 'area', 'bedrooms', 'bathrooms'] "
   ]
  },
  {
   "cell_type": "code",
   "execution_count": 2,
   "id": "d5b9028b",
   "metadata": {},
   "outputs": [
    {
     "data": {
      "text/html": [
       "<div>\n",
       "<style scoped>\n",
       "    .dataframe tbody tr th:only-of-type {\n",
       "        vertical-align: middle;\n",
       "    }\n",
       "\n",
       "    .dataframe tbody tr th {\n",
       "        vertical-align: top;\n",
       "    }\n",
       "\n",
       "    .dataframe thead th {\n",
       "        text-align: right;\n",
       "    }\n",
       "</style>\n",
       "<table border=\"1\" class=\"dataframe\">\n",
       "  <thead>\n",
       "    <tr style=\"text-align: right;\">\n",
       "      <th></th>\n",
       "      <th>price</th>\n",
       "      <th>area</th>\n",
       "      <th>bedrooms</th>\n",
       "      <th>bathrooms</th>\n",
       "    </tr>\n",
       "  </thead>\n",
       "  <tbody>\n",
       "    <tr>\n",
       "      <th>0</th>\n",
       "      <td>13300000</td>\n",
       "      <td>7420</td>\n",
       "      <td>4</td>\n",
       "      <td>2</td>\n",
       "    </tr>\n",
       "    <tr>\n",
       "      <th>1</th>\n",
       "      <td>12250000</td>\n",
       "      <td>8960</td>\n",
       "      <td>4</td>\n",
       "      <td>4</td>\n",
       "    </tr>\n",
       "    <tr>\n",
       "      <th>2</th>\n",
       "      <td>12250000</td>\n",
       "      <td>9960</td>\n",
       "      <td>3</td>\n",
       "      <td>2</td>\n",
       "    </tr>\n",
       "    <tr>\n",
       "      <th>3</th>\n",
       "      <td>12215000</td>\n",
       "      <td>7500</td>\n",
       "      <td>4</td>\n",
       "      <td>2</td>\n",
       "    </tr>\n",
       "    <tr>\n",
       "      <th>4</th>\n",
       "      <td>11410000</td>\n",
       "      <td>7420</td>\n",
       "      <td>4</td>\n",
       "      <td>1</td>\n",
       "    </tr>\n",
       "    <tr>\n",
       "      <th>...</th>\n",
       "      <td>...</td>\n",
       "      <td>...</td>\n",
       "      <td>...</td>\n",
       "      <td>...</td>\n",
       "    </tr>\n",
       "    <tr>\n",
       "      <th>540</th>\n",
       "      <td>1820000</td>\n",
       "      <td>3000</td>\n",
       "      <td>2</td>\n",
       "      <td>1</td>\n",
       "    </tr>\n",
       "    <tr>\n",
       "      <th>541</th>\n",
       "      <td>1767150</td>\n",
       "      <td>2400</td>\n",
       "      <td>3</td>\n",
       "      <td>1</td>\n",
       "    </tr>\n",
       "    <tr>\n",
       "      <th>542</th>\n",
       "      <td>1750000</td>\n",
       "      <td>3620</td>\n",
       "      <td>2</td>\n",
       "      <td>1</td>\n",
       "    </tr>\n",
       "    <tr>\n",
       "      <th>543</th>\n",
       "      <td>1750000</td>\n",
       "      <td>2910</td>\n",
       "      <td>3</td>\n",
       "      <td>1</td>\n",
       "    </tr>\n",
       "    <tr>\n",
       "      <th>544</th>\n",
       "      <td>1750000</td>\n",
       "      <td>3850</td>\n",
       "      <td>3</td>\n",
       "      <td>1</td>\n",
       "    </tr>\n",
       "  </tbody>\n",
       "</table>\n",
       "<p>545 rows × 4 columns</p>\n",
       "</div>"
      ],
      "text/plain": [
       "        price  area  bedrooms  bathrooms\n",
       "0    13300000  7420         4          2\n",
       "1    12250000  8960         4          4\n",
       "2    12250000  9960         3          2\n",
       "3    12215000  7500         4          2\n",
       "4    11410000  7420         4          1\n",
       "..        ...   ...       ...        ...\n",
       "540   1820000  3000         2          1\n",
       "541   1767150  2400         3          1\n",
       "542   1750000  3620         2          1\n",
       "543   1750000  2910         3          1\n",
       "544   1750000  3850         3          1\n",
       "\n",
       "[545 rows x 4 columns]"
      ]
     },
     "execution_count": 2,
     "metadata": {},
     "output_type": "execute_result"
    }
   ],
   "source": [
    "columns = ['price', 'area', 'bedrooms', 'bathrooms']\n",
    "data = data[columns]\n",
    "\n",
    "data"
   ]
  },
  {
   "cell_type": "markdown",
   "id": "fecf6079",
   "metadata": {},
   "source": [
    "3. Проведіть попередній аналіз даних: вивчіть структуру даних, перевірте наявність відсутніх значень та інші особливості даних. \n",
    "Зробити це  по аналогії з попередніми роботами (визначити тип даних, перевірити наявність “-“, замінити на Nan, потім змінити тип даних на float, потім на середнє значення за стовпчиком. "
   ]
  },
  {
   "cell_type": "code",
   "execution_count": 3,
   "id": "6a0d681a",
   "metadata": {},
   "outputs": [
    {
     "name": "stdout",
     "output_type": "stream",
     "text": [
      "Кількість пропускім у кожному із стовпців:\n",
      " price        0.0\n",
      "area         0.0\n",
      "bedrooms     0.0\n",
      "bathrooms    0.0\n",
      "dtype: float64\n"
     ]
    }
   ],
   "source": [
    "data_miss = data.isna().sum()/len(data)*100\n",
    "\n",
    "print(\"Кількість пропускім у кожному із стовпців:\\n\", data_miss)"
   ]
  },
  {
   "cell_type": "markdown",
   "id": "bc6445aa",
   "metadata": {},
   "source": [
    "4. Нормалізуйте дані перед подальшим використанням. Це може покращити швидкість навчання моделі та поліпшити її стабільність. Дані для лінійної регресії нормалізуються так, щоб їх середнє значення було близьким до 0, а стандартне відхилення - близьким до 1. "
   ]
  },
  {
   "cell_type": "code",
   "execution_count": 4,
   "id": "3e82b8a8",
   "metadata": {},
   "outputs": [
    {
     "data": {
      "text/html": [
       "<div>\n",
       "<style scoped>\n",
       "    .dataframe tbody tr th:only-of-type {\n",
       "        vertical-align: middle;\n",
       "    }\n",
       "\n",
       "    .dataframe tbody tr th {\n",
       "        vertical-align: top;\n",
       "    }\n",
       "\n",
       "    .dataframe thead th {\n",
       "        text-align: right;\n",
       "    }\n",
       "</style>\n",
       "<table border=\"1\" class=\"dataframe\">\n",
       "  <thead>\n",
       "    <tr style=\"text-align: right;\">\n",
       "      <th></th>\n",
       "      <th>price</th>\n",
       "      <th>area</th>\n",
       "      <th>bedrooms</th>\n",
       "      <th>bathrooms</th>\n",
       "    </tr>\n",
       "  </thead>\n",
       "  <tbody>\n",
       "    <tr>\n",
       "      <th>0</th>\n",
       "      <td>13300000</td>\n",
       "      <td>1.046726</td>\n",
       "      <td>1.403419</td>\n",
       "      <td>1.421812</td>\n",
       "    </tr>\n",
       "    <tr>\n",
       "      <th>1</th>\n",
       "      <td>12250000</td>\n",
       "      <td>1.757010</td>\n",
       "      <td>1.403419</td>\n",
       "      <td>5.405809</td>\n",
       "    </tr>\n",
       "    <tr>\n",
       "      <th>2</th>\n",
       "      <td>12250000</td>\n",
       "      <td>2.218232</td>\n",
       "      <td>0.047278</td>\n",
       "      <td>1.421812</td>\n",
       "    </tr>\n",
       "    <tr>\n",
       "      <th>3</th>\n",
       "      <td>12215000</td>\n",
       "      <td>1.083624</td>\n",
       "      <td>1.403419</td>\n",
       "      <td>1.421812</td>\n",
       "    </tr>\n",
       "    <tr>\n",
       "      <th>4</th>\n",
       "      <td>11410000</td>\n",
       "      <td>1.046726</td>\n",
       "      <td>1.403419</td>\n",
       "      <td>-0.570187</td>\n",
       "    </tr>\n",
       "    <tr>\n",
       "      <th>...</th>\n",
       "      <td>...</td>\n",
       "      <td>...</td>\n",
       "      <td>...</td>\n",
       "      <td>...</td>\n",
       "    </tr>\n",
       "    <tr>\n",
       "      <th>540</th>\n",
       "      <td>1820000</td>\n",
       "      <td>-0.991879</td>\n",
       "      <td>-1.308863</td>\n",
       "      <td>-0.570187</td>\n",
       "    </tr>\n",
       "    <tr>\n",
       "      <th>541</th>\n",
       "      <td>1767150</td>\n",
       "      <td>-1.268613</td>\n",
       "      <td>0.047278</td>\n",
       "      <td>-0.570187</td>\n",
       "    </tr>\n",
       "    <tr>\n",
       "      <th>542</th>\n",
       "      <td>1750000</td>\n",
       "      <td>-0.705921</td>\n",
       "      <td>-1.308863</td>\n",
       "      <td>-0.570187</td>\n",
       "    </tr>\n",
       "    <tr>\n",
       "      <th>543</th>\n",
       "      <td>1750000</td>\n",
       "      <td>-1.033389</td>\n",
       "      <td>0.047278</td>\n",
       "      <td>-0.570187</td>\n",
       "    </tr>\n",
       "    <tr>\n",
       "      <th>544</th>\n",
       "      <td>1750000</td>\n",
       "      <td>-0.599839</td>\n",
       "      <td>0.047278</td>\n",
       "      <td>-0.570187</td>\n",
       "    </tr>\n",
       "  </tbody>\n",
       "</table>\n",
       "<p>545 rows × 4 columns</p>\n",
       "</div>"
      ],
      "text/plain": [
       "        price      area  bedrooms  bathrooms\n",
       "0    13300000  1.046726  1.403419   1.421812\n",
       "1    12250000  1.757010  1.403419   5.405809\n",
       "2    12250000  2.218232  0.047278   1.421812\n",
       "3    12215000  1.083624  1.403419   1.421812\n",
       "4    11410000  1.046726  1.403419  -0.570187\n",
       "..        ...       ...       ...        ...\n",
       "540   1820000 -0.991879 -1.308863  -0.570187\n",
       "541   1767150 -1.268613  0.047278  -0.570187\n",
       "542   1750000 -0.705921 -1.308863  -0.570187\n",
       "543   1750000 -1.033389  0.047278  -0.570187\n",
       "544   1750000 -0.599839  0.047278  -0.570187\n",
       "\n",
       "[545 rows x 4 columns]"
      ]
     },
     "execution_count": 4,
     "metadata": {},
     "output_type": "execute_result"
    }
   ],
   "source": [
    "scaler = StandardScaler()\n",
    "data[['area', 'bedrooms', 'bathrooms']] = scaler.fit_transform(data[['area', 'bedrooms', 'bathrooms']])\n",
    "\n",
    "data"
   ]
  },
  {
   "cell_type": "markdown",
   "id": "c1d25f40",
   "metadata": {},
   "source": [
    "5. Розділіть дані на навчальний та тестовий набори для подальшого оцінювання моделі.\n",
    "6. Підготуйте дані: виберіть атрибути (площа, кількість ванних кімнат, кількість спалень) та цільову змінну (ціну на будинок)."
   ]
  },
  {
   "cell_type": "code",
   "execution_count": 5,
   "id": "bfe6edf1",
   "metadata": {},
   "outputs": [],
   "source": [
    "x = data[['area', 'bedrooms', 'bathrooms']].values\n",
    "y = data['price'].values\n",
    "\n",
    "train_x, test_x, train_y, test_y = train_test_split(x, y, test_size=0.4, random_state=40)"
   ]
  },
  {
   "cell_type": "markdown",
   "id": "b818d3fd",
   "metadata": {},
   "source": [
    "7. Побудуйте модель лінійної регресії та навчіть її на навчальних даних. "
   ]
  },
  {
   "cell_type": "code",
   "execution_count": 6,
   "id": "81a5a430",
   "metadata": {},
   "outputs": [
    {
     "data": {
      "text/html": [
       "<style>#sk-container-id-1 {color: black;}#sk-container-id-1 pre{padding: 0;}#sk-container-id-1 div.sk-toggleable {background-color: white;}#sk-container-id-1 label.sk-toggleable__label {cursor: pointer;display: block;width: 100%;margin-bottom: 0;padding: 0.3em;box-sizing: border-box;text-align: center;}#sk-container-id-1 label.sk-toggleable__label-arrow:before {content: \"▸\";float: left;margin-right: 0.25em;color: #696969;}#sk-container-id-1 label.sk-toggleable__label-arrow:hover:before {color: black;}#sk-container-id-1 div.sk-estimator:hover label.sk-toggleable__label-arrow:before {color: black;}#sk-container-id-1 div.sk-toggleable__content {max-height: 0;max-width: 0;overflow: hidden;text-align: left;background-color: #f0f8ff;}#sk-container-id-1 div.sk-toggleable__content pre {margin: 0.2em;color: black;border-radius: 0.25em;background-color: #f0f8ff;}#sk-container-id-1 input.sk-toggleable__control:checked~div.sk-toggleable__content {max-height: 200px;max-width: 100%;overflow: auto;}#sk-container-id-1 input.sk-toggleable__control:checked~label.sk-toggleable__label-arrow:before {content: \"▾\";}#sk-container-id-1 div.sk-estimator input.sk-toggleable__control:checked~label.sk-toggleable__label {background-color: #d4ebff;}#sk-container-id-1 div.sk-label input.sk-toggleable__control:checked~label.sk-toggleable__label {background-color: #d4ebff;}#sk-container-id-1 input.sk-hidden--visually {border: 0;clip: rect(1px 1px 1px 1px);clip: rect(1px, 1px, 1px, 1px);height: 1px;margin: -1px;overflow: hidden;padding: 0;position: absolute;width: 1px;}#sk-container-id-1 div.sk-estimator {font-family: monospace;background-color: #f0f8ff;border: 1px dotted black;border-radius: 0.25em;box-sizing: border-box;margin-bottom: 0.5em;}#sk-container-id-1 div.sk-estimator:hover {background-color: #d4ebff;}#sk-container-id-1 div.sk-parallel-item::after {content: \"\";width: 100%;border-bottom: 1px solid gray;flex-grow: 1;}#sk-container-id-1 div.sk-label:hover label.sk-toggleable__label {background-color: #d4ebff;}#sk-container-id-1 div.sk-serial::before {content: \"\";position: absolute;border-left: 1px solid gray;box-sizing: border-box;top: 0;bottom: 0;left: 50%;z-index: 0;}#sk-container-id-1 div.sk-serial {display: flex;flex-direction: column;align-items: center;background-color: white;padding-right: 0.2em;padding-left: 0.2em;position: relative;}#sk-container-id-1 div.sk-item {position: relative;z-index: 1;}#sk-container-id-1 div.sk-parallel {display: flex;align-items: stretch;justify-content: center;background-color: white;position: relative;}#sk-container-id-1 div.sk-item::before, #sk-container-id-1 div.sk-parallel-item::before {content: \"\";position: absolute;border-left: 1px solid gray;box-sizing: border-box;top: 0;bottom: 0;left: 50%;z-index: -1;}#sk-container-id-1 div.sk-parallel-item {display: flex;flex-direction: column;z-index: 1;position: relative;background-color: white;}#sk-container-id-1 div.sk-parallel-item:first-child::after {align-self: flex-end;width: 50%;}#sk-container-id-1 div.sk-parallel-item:last-child::after {align-self: flex-start;width: 50%;}#sk-container-id-1 div.sk-parallel-item:only-child::after {width: 0;}#sk-container-id-1 div.sk-dashed-wrapped {border: 1px dashed gray;margin: 0 0.4em 0.5em 0.4em;box-sizing: border-box;padding-bottom: 0.4em;background-color: white;}#sk-container-id-1 div.sk-label label {font-family: monospace;font-weight: bold;display: inline-block;line-height: 1.2em;}#sk-container-id-1 div.sk-label-container {text-align: center;}#sk-container-id-1 div.sk-container {/* jupyter's `normalize.less` sets `[hidden] { display: none; }` but bootstrap.min.css set `[hidden] { display: none !important; }` so we also need the `!important` here to be able to override the default hidden behavior on the sphinx rendered scikit-learn.org. See: https://github.com/scikit-learn/scikit-learn/issues/21755 */display: inline-block !important;position: relative;}#sk-container-id-1 div.sk-text-repr-fallback {display: none;}</style><div id=\"sk-container-id-1\" class=\"sk-top-container\"><div class=\"sk-text-repr-fallback\"><pre>LinearRegression()</pre><b>In a Jupyter environment, please rerun this cell to show the HTML representation or trust the notebook. <br />On GitHub, the HTML representation is unable to render, please try loading this page with nbviewer.org.</b></div><div class=\"sk-container\" hidden><div class=\"sk-item\"><div class=\"sk-estimator sk-toggleable\"><input class=\"sk-toggleable__control sk-hidden--visually\" id=\"sk-estimator-id-1\" type=\"checkbox\" checked><label for=\"sk-estimator-id-1\" class=\"sk-toggleable__label sk-toggleable__label-arrow\">LinearRegression</label><div class=\"sk-toggleable__content\"><pre>LinearRegression()</pre></div></div></div></div></div>"
      ],
      "text/plain": [
       "LinearRegression()"
      ]
     },
     "execution_count": 6,
     "metadata": {},
     "output_type": "execute_result"
    }
   ],
   "source": [
    "model_lin = LinearRegression()\n",
    "model_lin.fit(train_x, train_y)"
   ]
  },
  {
   "cell_type": "markdown",
   "id": "0fbf95a7",
   "metadata": {},
   "source": [
    "8. Оцініть якість моделі на тестових даних, використовуючи показники, такі як середньоквадратична помилка та коефіцієнт детермінації. Потім застосуйте  крос-валідацію для підвищення якості моделі. Порівняйте результати (без крос-валідації і з крос-валідацією). \n",
    "9. Виконайте аналіз результатів та виведіть прогнозовані ціни на будинки для тестового набору даних. "
   ]
  },
  {
   "cell_type": "code",
   "execution_count": 7,
   "id": "c15abdd7",
   "metadata": {},
   "outputs": [
    {
     "name": "stdout",
     "output_type": "stream",
     "text": [
      "Середньоквадратична помилка: 1512986.9059999262\n",
      "Коефіцієнт детермінації: 0.4642152184629369\n",
      "Середньоквадратична помилка з кросс-валідацією: 1431206.59533937\n",
      "Коефіцієнт детермінації з кросс-валідацією: -34.25728450499558\n"
     ]
    }
   ],
   "source": [
    "predict = model_lin.predict(test_x)\n",
    "\n",
    "rmse = np.sqrt(mean_squared_error(test_y, predict))\n",
    "r2 = r2_score(test_y, predict)\n",
    "\n",
    "cv_rmse = np.sqrt(-cross_val_score(model_lin, x, y, scoring='neg_mean_squared_error', cv=8))\n",
    "cv_r2 = cross_val_score(model_lin, x, y, cv=8)\n",
    "\n",
    "print(\"Середньоквадратична помилка:\", rmse)\n",
    "print(\"Коефіцієнт детермінації:\", r2)\n",
    "\n",
    "print (\"Середньоквадратична помилка з кросс-валідацією:\", np.mean(cv_rmse))\n",
    "print (\"Коефіцієнт детермінації з кросс-валідацією:\", np.mean(cv_r2))"
   ]
  },
  {
   "cell_type": "markdown",
   "id": "daf24e5e",
   "metadata": {},
   "source": [
    "#### Частина 2: Знайдіть параметри аналітичним рішенням"
   ]
  },
  {
   "cell_type": "markdown",
   "id": "a3269844",
   "metadata": {},
   "source": [
    "10. Визначте аналітично коефіцієнти лінійної регресії (ваги моделі) для цієї задачі, використовуючи формулу для спрощеного аналітичного рішення лінійної регресії. "
   ]
  },
  {
   "cell_type": "code",
   "execution_count": 8,
   "id": "91a57937",
   "metadata": {},
   "outputs": [
    {
     "name": "stdout",
     "output_type": "stream",
     "text": [
      "Аналітично визначені коефіцієнти лінійної регресії:\n",
      "Interception: 4720395.64946\n",
      "Coefficients for attributes:  [717203.96319 291683.7796  702606.38517]\n"
     ]
    }
   ],
   "source": [
    "analytical_solution = np.hstack([np.ones((train_x.shape[0], 1)), train_x])\n",
    "coef_of_interception = np.linalg.inv(analytical_solution.T.dot(analytical_solution)).dot(analytical_solution.T).dot(train_y)\n",
    "analytical_interception = coef_of_interception[0]\n",
    "coef_for_attributes = coef_of_interception[1:]\n",
    "\n",
    "print(\"Аналітично визначені коефіцієнти лінійної регресії:\")\n",
    "print(\"Interception:\", analytical_interception.round(5))\n",
    "print(\"Coefficients for attributes: \", coef_for_attributes.round(5))"
   ]
  },
  {
   "cell_type": "markdown",
   "id": "4b5f7f26",
   "metadata": {},
   "source": [
    "#### Частина 3: Візуалізація результатів та порівняння "
   ]
  },
  {
   "cell_type": "markdown",
   "id": "66823b23",
   "metadata": {},
   "source": [
    "11. Візуалізуйте дані та результати регресії: побудуйте графіки для ознайомлення з розподілом даних і лінійною регресійною моделлю. "
   ]
  },
  {
   "cell_type": "code",
   "execution_count": 9,
   "id": "1766894a",
   "metadata": {},
   "outputs": [
    {
     "data": {
      "image/png": "[encoded data removed]",
      "text/plain": [
       "<Figure size 640x480 with 1 Axes>"
      ]
     },
     "metadata": {},
     "output_type": "display_data"
    }
   ],
   "source": [
    "plt.scatter(test_x[:, 0], test_y, color='blue', alpha=0.5, label='Розподіл даних')\n",
    "plt.scatter(test_x[:, 0], predict, color='red', alpha=0.5, label='Лінійна регресія')\n",
    "plt.xlabel('Площа')\n",
    "plt.ylabel('Ціна')\n",
    "plt.title('Розподіл даних та лінійна регресія')\n",
    "\n",
    "plt.grid()\n",
    "plt.legend()\n",
    "plt.show()"
   ]
  },
  {
   "cell_type": "markdown",
   "id": "79cb7e2a",
   "metadata": {},
   "source": [
    "12. Порівняйте отримані параметри (коефіцієнти) лінійної регресії з аналітичними результатами та оцініть, наскільки схожі вони. "
   ]
  },
  {
   "cell_type": "code",
   "execution_count": 10,
   "id": "ee487868",
   "metadata": {},
   "outputs": [
    {
     "name": "stdout",
     "output_type": "stream",
     "text": [
      "Coefficients:  [717203.96319 291683.7796  702606.38517]\n",
      "Interception:  4720395.64946\n"
     ]
    }
   ],
   "source": [
    "print(\"Coefficients: \", model_lin.coef_.round(5))\n",
    "print(\"Interception: \", model_lin.intercept_.round(5))"
   ]
  },
  {
   "cell_type": "markdown",
   "id": "8107f96d",
   "metadata": {},
   "source": [
    "13. Зробіть висновки щодо ефективності лінійної регресії у прогнозуванні цін на будинок на основі вказаних атрибутів та порівняння з аналітичним рішенням. \n",
    "- Лінійна регресія виявилася ефективною для прогнозування цін на будинок з використанням вказаних атрибутів. Отримані чисельні та аналітичні коефіцієнти близькі, що свідчить про добру апроксимацію моделі до даних.\n"
   ]
  },
  {
   "cell_type": "markdown",
   "id": "0cd85082",
   "metadata": {},
   "source": [
    "#### Висновки: У ході цієї практичної роботи я освоїв процеси роботи з даними, від розділення даних до побудови та оцінки моделі лінійної регресії. Також вивчив методи вибору ознак, навчання моделі, візуалізацію результатів та порівняння їх з аналітичним рішенням.."
   ]
  }
 ],
 "metadata": {
  "kernelspec": {
   "display_name": "Python 3 (ipykernel)",
   "language": "python",
   "name": "python3"
  },
  "language_info": {
   "codemirror_mode": {
    "name": "ipython",
    "version": 3
   },
   "file_extension": ".py",
   "mimetype": "text/x-python",
   "name": "python",
   "nbconvert_exporter": "python",
   "pygments_lexer": "ipython3",
   "version": "3.11.4"
  }
 },
 "nbformat": 4,
 "nbformat_minor": 5
}
